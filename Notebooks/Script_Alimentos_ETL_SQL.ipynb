{
 "cells": [
  {
   "cell_type": "markdown",
   "metadata": {},
   "source": [
    "<h2 style=\"font-family:Garamond;\">Extração, Transformação e Carregamento de dados (ETL)</h2>\n",
    "<h3 style=\"font-family:Garamond;\">Importação das bibliotecas</h3>\n",
    "<p style=\"font-family: Anko ;\">O primeiro passo em um processo de ETL é a extração dos dados, no presente projeto nossa base de dados é um arquivo CSV. Vamos começar importando a biblioteca Pandas para então analisar a base de dados.</p>"
   ]
  },
  {
   "cell_type": "code",
   "execution_count": 15,
   "metadata": {},
   "outputs": [
    {
     "data": {
      "text/plain": [
       "'E:/Documents/PROJETO ALIMENTOS EM SQL/DADOS_ABERTOS_ALIMENTO.csv'"
      ]
     },
     "execution_count": 15,
     "metadata": {},
     "output_type": "execute_result"
    }
   ],
   "source": [
    "import pandas as pd\n",
    "#indicar o caminho do arquivo (ONDE está localizado na máquina)\n",
    "reg = \"E:/Documents/PROJETO ALIMENTOS EM SQL/DADOS_ABERTOS_ALIMENTO.csv\"\n",
    "reg"
   ]
  },
  {
   "cell_type": "markdown",
   "metadata": {},
   "source": [
    "<p style=\"font-family:Anko;font-size:120%;\">Agora vamos carregar o arquivo CSV</p>\n",
    "<p style=\"font-family: Anko;\">Note as adições feitas ao comando, para especificar a codificação de caracteres usada para ler o arquivo <i style=\"color:#85C1E9;\">(\"encoding = 'iso-8859-1'\" ou 'Latin-1')</i>; usamos <i style=\"color:#85C1E9;\">(\"sep = ';'\")</i> para definir o delimitador que separa os valores no arquivo como ponto e vírgula <b> (';')</b>; e o comando <i style=\"color:#85C1E9;\">(\"on_bad_lines = 'skip'\")</i> para ignorar linhas malformadas ou incompletas."
   ]
  },
  {
   "cell_type": "code",
   "execution_count": 16,
   "metadata": {},
   "outputs": [
    {
     "data": {
      "text/html": [
       "<div>\n",
       "<style scoped>\n",
       "    .dataframe tbody tr th:only-of-type {\n",
       "        vertical-align: middle;\n",
       "    }\n",
       "\n",
       "    .dataframe tbody tr th {\n",
       "        vertical-align: top;\n",
       "    }\n",
       "\n",
       "    .dataframe thead th {\n",
       "        text-align: right;\n",
       "    }\n",
       "</style>\n",
       "<table border=\"1\" class=\"dataframe\">\n",
       "  <thead>\n",
       "    <tr style=\"text-align: right;\">\n",
       "      <th></th>\n",
       "      <th>NU_CNPJ_EMPRESA</th>\n",
       "      <th>NO_RAZAO_SOCIAL_EMPRESA</th>\n",
       "      <th>NO_PRODUTO</th>\n",
       "      <th>NU_PROCESSO</th>\n",
       "      <th>DS_TIPO_PRODUTO</th>\n",
       "      <th>DS_CATEGORIA_PRODUTO</th>\n",
       "      <th>DT_FINALIZACAO_PROCESSO</th>\n",
       "      <th>NU_REGISTRO_PRODUTO</th>\n",
       "      <th>DT_VENCIMENTO_REGISTRO</th>\n",
       "      <th>ST_SITUACAO_REGISTRO</th>\n",
       "    </tr>\n",
       "  </thead>\n",
       "  <tbody>\n",
       "    <tr>\n",
       "      <th>0</th>\n",
       "      <td>05501937000164</td>\n",
       "      <td>AMAZON ERVAS LABORATÓRIO BOTÂNICO LTDA</td>\n",
       "      <td>LICOPENO DE TOMATE COM VITAMINAS 'A' E 'E' EM ...</td>\n",
       "      <td>25009008347200207</td>\n",
       "      <td>ALIMENTO</td>\n",
       "      <td>SUBSTANCIAS BIOATIVAS E PROBIOTICOS ISOLADOS C...</td>\n",
       "      <td>07/15/2003 00:00:00</td>\n",
       "      <td>563450134</td>\n",
       "      <td>04/01/2007 00:00:00</td>\n",
       "      <td>Cancelado/Caduco</td>\n",
       "    </tr>\n",
       "    <tr>\n",
       "      <th>1</th>\n",
       "      <td>64088172000141</td>\n",
       "      <td>ATIVUS FARMACÊUTICA LTDA</td>\n",
       "      <td>LACTOBACILLUS ACIDOPHILUS EM SACHES</td>\n",
       "      <td>25004122926200216</td>\n",
       "      <td>ALIMENTO</td>\n",
       "      <td>SUBSTANCIAS BIOATIVAS E PROBIOTICOS ISOLADOS C...</td>\n",
       "      <td>01/29/2004 00:00:00</td>\n",
       "      <td>613700231</td>\n",
       "      <td>01/01/2014 00:00:00</td>\n",
       "      <td>Cancelado/Caduco</td>\n",
       "    </tr>\n",
       "    <tr>\n",
       "      <th>2</th>\n",
       "      <td>00413925000164</td>\n",
       "      <td>COLBRÁS INDÚSTRIA E COMÉRCIO LTDA</td>\n",
       "      <td>LICOPENO DE TOMATE EM CAPSULAS</td>\n",
       "      <td>25004050805200346</td>\n",
       "      <td>ALIMENTO</td>\n",
       "      <td>SUBSTANCIAS BIOATIVAS E PROBIOTICOS ISOLADOS C...</td>\n",
       "      <td>06/22/2004 00:00:00</td>\n",
       "      <td>508350027</td>\n",
       "      <td>06/01/2019 00:00:00</td>\n",
       "      <td>Cancelado/Caduco</td>\n",
       "    </tr>\n",
       "    <tr>\n",
       "      <th>3</th>\n",
       "      <td>68344878000188</td>\n",
       "      <td>ROBERG NUTRIGENOMICA LTDA</td>\n",
       "      <td>LICOPENO SINTETICO COM VITAMINA \"E\" E ZINCO EM...</td>\n",
       "      <td>25004231575200314</td>\n",
       "      <td>ALIMENTO</td>\n",
       "      <td>SUBSTANCIAS BIOATIVAS E PROBIOTICOS ISOLADOS C...</td>\n",
       "      <td>08/30/2004 00:00:00</td>\n",
       "      <td>564840019</td>\n",
       "      <td>08/01/2014 00:00:00</td>\n",
       "      <td>Cancelado/Caduco</td>\n",
       "    </tr>\n",
       "    <tr>\n",
       "      <th>4</th>\n",
       "      <td>64088172000141</td>\n",
       "      <td>ATIVUS FARMACÊUTICA LTDA</td>\n",
       "      <td>LACTOBACILLUS ACIDOPHILUS EM SACHÊ</td>\n",
       "      <td>25004127882200432</td>\n",
       "      <td>ALIMENTO</td>\n",
       "      <td>SUBSTANCIAS BIOATIVAS E PROBIOTICOS ISOLADOS C...</td>\n",
       "      <td>03/02/2005 00:00:00</td>\n",
       "      <td>613700235</td>\n",
       "      <td>02/01/2015 00:00:00</td>\n",
       "      <td>Cancelado/Caduco</td>\n",
       "    </tr>\n",
       "    <tr>\n",
       "      <th>...</th>\n",
       "      <td>...</td>\n",
       "      <td>...</td>\n",
       "      <td>...</td>\n",
       "      <td>...</td>\n",
       "      <td>...</td>\n",
       "      <td>...</td>\n",
       "      <td>...</td>\n",
       "      <td>...</td>\n",
       "      <td>...</td>\n",
       "      <td>...</td>\n",
       "    </tr>\n",
       "    <tr>\n",
       "      <th>26312</th>\n",
       "      <td>00625722000484</td>\n",
       "      <td>ANGULO AGRO INDUSTRIAL LTDA</td>\n",
       "      <td>SAL GROSSO IODADO</td>\n",
       "      <td>2500400283992</td>\n",
       "      <td>ALIMENTO</td>\n",
       "      <td>CATEGORIA NAO CADASTRADA</td>\n",
       "      <td>09/06/1993 00:00:00</td>\n",
       "      <td>495390013</td>\n",
       "      <td>09/01/2003 00:00:00</td>\n",
       "      <td>Cancelado/Caduco</td>\n",
       "    </tr>\n",
       "    <tr>\n",
       "      <th>26313</th>\n",
       "      <td>04133906000135</td>\n",
       "      <td>ALIMENTICIO INTERNACIONAL DE CACAU SA - INTERC...</td>\n",
       "      <td>CHOCOLATE EM PO</td>\n",
       "      <td>2500400141392</td>\n",
       "      <td>ALIMENTO</td>\n",
       "      <td>CATEGORIA NAO CADASTRADA</td>\n",
       "      <td>03/17/1994 00:00:00</td>\n",
       "      <td>479310012</td>\n",
       "      <td>03/01/2004 00:00:00</td>\n",
       "      <td>Cancelado/Caduco</td>\n",
       "    </tr>\n",
       "    <tr>\n",
       "      <th>26314</th>\n",
       "      <td>05850086000165</td>\n",
       "      <td>RIOMAR CONSERVAS LTDA</td>\n",
       "      <td>MECTAR DE FRUTAS DA AMAZONIA</td>\n",
       "      <td>2501001163193</td>\n",
       "      <td>ALIMENTO</td>\n",
       "      <td>CATEGORIA NAO CADASTRADA</td>\n",
       "      <td>05/19/1994 00:00:00</td>\n",
       "      <td>403430032</td>\n",
       "      <td>05/01/2004 00:00:00</td>\n",
       "      <td>Cancelado/Caduco</td>\n",
       "    </tr>\n",
       "    <tr>\n",
       "      <th>26315</th>\n",
       "      <td>00321245000200</td>\n",
       "      <td>SKW BIOSYSTEMS DO BRASIL LTDA</td>\n",
       "      <td>MISTURA ANTIOXIDANTE PARA FINS ALIMENTICIOS</td>\n",
       "      <td>2500400251792</td>\n",
       "      <td>ALIMENTO</td>\n",
       "      <td>CATEGORIA NAO CADASTRADA</td>\n",
       "      <td>04/11/1994 00:00:00</td>\n",
       "      <td>495860091</td>\n",
       "      <td>04/01/2004 00:00:00</td>\n",
       "      <td>Cancelado/Caduco</td>\n",
       "    </tr>\n",
       "    <tr>\n",
       "      <th>26316</th>\n",
       "      <td>07201635000104</td>\n",
       "      <td>INDUSTRIA DE BEBIDAS E CONDIMENTOS LORD LTDA</td>\n",
       "      <td>TEMPERO COMPLETO</td>\n",
       "      <td>2501601275283</td>\n",
       "      <td>ALIMENTO</td>\n",
       "      <td>CATEGORIA NAO CADASTRADA</td>\n",
       "      <td>04/19/1994 00:00:00</td>\n",
       "      <td>445670022</td>\n",
       "      <td>01/01/2004 00:00:00</td>\n",
       "      <td>Cancelado/Caduco</td>\n",
       "    </tr>\n",
       "  </tbody>\n",
       "</table>\n",
       "<p>26317 rows × 10 columns</p>\n",
       "</div>"
      ],
      "text/plain": [
       "      NU_CNPJ_EMPRESA                            NO_RAZAO_SOCIAL_EMPRESA  \\\n",
       "0      05501937000164             AMAZON ERVAS LABORATÓRIO BOTÂNICO LTDA   \n",
       "1      64088172000141                           ATIVUS FARMACÊUTICA LTDA   \n",
       "2      00413925000164                  COLBRÁS INDÚSTRIA E COMÉRCIO LTDA   \n",
       "3      68344878000188                          ROBERG NUTRIGENOMICA LTDA   \n",
       "4      64088172000141                           ATIVUS FARMACÊUTICA LTDA   \n",
       "...               ...                                                ...   \n",
       "26312  00625722000484                        ANGULO AGRO INDUSTRIAL LTDA   \n",
       "26313  04133906000135  ALIMENTICIO INTERNACIONAL DE CACAU SA - INTERC...   \n",
       "26314  05850086000165                              RIOMAR CONSERVAS LTDA   \n",
       "26315  00321245000200                      SKW BIOSYSTEMS DO BRASIL LTDA   \n",
       "26316  07201635000104       INDUSTRIA DE BEBIDAS E CONDIMENTOS LORD LTDA   \n",
       "\n",
       "                                              NO_PRODUTO        NU_PROCESSO  \\\n",
       "0      LICOPENO DE TOMATE COM VITAMINAS 'A' E 'E' EM ...  25009008347200207   \n",
       "1                    LACTOBACILLUS ACIDOPHILUS EM SACHES  25004122926200216   \n",
       "2                         LICOPENO DE TOMATE EM CAPSULAS  25004050805200346   \n",
       "3      LICOPENO SINTETICO COM VITAMINA \"E\" E ZINCO EM...  25004231575200314   \n",
       "4                     LACTOBACILLUS ACIDOPHILUS EM SACHÊ  25004127882200432   \n",
       "...                                                  ...                ...   \n",
       "26312                                  SAL GROSSO IODADO      2500400283992   \n",
       "26313                                    CHOCOLATE EM PO      2500400141392   \n",
       "26314                       MECTAR DE FRUTAS DA AMAZONIA      2501001163193   \n",
       "26315        MISTURA ANTIOXIDANTE PARA FINS ALIMENTICIOS      2500400251792   \n",
       "26316                                   TEMPERO COMPLETO      2501601275283   \n",
       "\n",
       "      DS_TIPO_PRODUTO                               DS_CATEGORIA_PRODUTO  \\\n",
       "0            ALIMENTO  SUBSTANCIAS BIOATIVAS E PROBIOTICOS ISOLADOS C...   \n",
       "1            ALIMENTO  SUBSTANCIAS BIOATIVAS E PROBIOTICOS ISOLADOS C...   \n",
       "2            ALIMENTO  SUBSTANCIAS BIOATIVAS E PROBIOTICOS ISOLADOS C...   \n",
       "3            ALIMENTO  SUBSTANCIAS BIOATIVAS E PROBIOTICOS ISOLADOS C...   \n",
       "4            ALIMENTO  SUBSTANCIAS BIOATIVAS E PROBIOTICOS ISOLADOS C...   \n",
       "...               ...                                                ...   \n",
       "26312        ALIMENTO                           CATEGORIA NAO CADASTRADA   \n",
       "26313        ALIMENTO                           CATEGORIA NAO CADASTRADA   \n",
       "26314        ALIMENTO                           CATEGORIA NAO CADASTRADA   \n",
       "26315        ALIMENTO                           CATEGORIA NAO CADASTRADA   \n",
       "26316        ALIMENTO                           CATEGORIA NAO CADASTRADA   \n",
       "\n",
       "      DT_FINALIZACAO_PROCESSO NU_REGISTRO_PRODUTO DT_VENCIMENTO_REGISTRO  \\\n",
       "0         07/15/2003 00:00:00           563450134    04/01/2007 00:00:00   \n",
       "1         01/29/2004 00:00:00           613700231    01/01/2014 00:00:00   \n",
       "2         06/22/2004 00:00:00           508350027    06/01/2019 00:00:00   \n",
       "3         08/30/2004 00:00:00           564840019    08/01/2014 00:00:00   \n",
       "4         03/02/2005 00:00:00           613700235    02/01/2015 00:00:00   \n",
       "...                       ...                 ...                    ...   \n",
       "26312     09/06/1993 00:00:00           495390013    09/01/2003 00:00:00   \n",
       "26313     03/17/1994 00:00:00           479310012    03/01/2004 00:00:00   \n",
       "26314     05/19/1994 00:00:00           403430032    05/01/2004 00:00:00   \n",
       "26315     04/11/1994 00:00:00           495860091    04/01/2004 00:00:00   \n",
       "26316     04/19/1994 00:00:00           445670022    01/01/2004 00:00:00   \n",
       "\n",
       "      ST_SITUACAO_REGISTRO  \n",
       "0         Cancelado/Caduco  \n",
       "1         Cancelado/Caduco  \n",
       "2         Cancelado/Caduco  \n",
       "3         Cancelado/Caduco  \n",
       "4         Cancelado/Caduco  \n",
       "...                    ...  \n",
       "26312     Cancelado/Caduco  \n",
       "26313     Cancelado/Caduco  \n",
       "26314     Cancelado/Caduco  \n",
       "26315     Cancelado/Caduco  \n",
       "26316     Cancelado/Caduco  \n",
       "\n",
       "[26317 rows x 10 columns]"
      ]
     },
     "execution_count": 16,
     "metadata": {},
     "output_type": "execute_result"
    }
   ],
   "source": [
    "#O comando abaixo lê arquivos com extensão csv\n",
    "data = pd.read_csv(reg, encoding = 'iso-8859-1', sep = ';', on_bad_lines = 'skip') #\n",
    "data "
   ]
  },
  {
   "cell_type": "code",
   "execution_count": 17,
   "metadata": {},
   "outputs": [
    {
     "data": {
      "text/plain": [
       "NU_CNPJ_EMPRESA            object\n",
       "NO_RAZAO_SOCIAL_EMPRESA    object\n",
       "NO_PRODUTO                 object\n",
       "NU_PROCESSO                object\n",
       "DS_TIPO_PRODUTO            object\n",
       "DS_CATEGORIA_PRODUTO       object\n",
       "DT_FINALIZACAO_PROCESSO    object\n",
       "NU_REGISTRO_PRODUTO        object\n",
       "DT_VENCIMENTO_REGISTRO     object\n",
       "ST_SITUACAO_REGISTRO       object\n",
       "dtype: object"
      ]
     },
     "execution_count": 17,
     "metadata": {},
     "output_type": "execute_result"
    }
   ],
   "source": [
    "#Entendendo o tipo de dados\n",
    "data.dtypes"
   ]
  },
  {
   "cell_type": "markdown",
   "metadata": {},
   "source": [
    "<p style=\"font-family:Anko;\"> O tipo <b style=\"color:#99A3A4;\">'object'</b> em Pandas é um dado para colunas que contêm dados heterogêneos, como números, strings e outros.</p>\n",
    "<p style=\"font-family:Anko;\"> A seguir, para visualizar a quantidade de itens por coluna usaremos <b style=\"color:#F4D03F;\">'len()'</b></p>"
   ]
  },
  {
   "cell_type": "code",
   "execution_count": 18,
   "metadata": {},
   "outputs": [
    {
     "name": "stdout",
     "output_type": "stream",
     "text": [
      "TAMANHO DAS COLUNAS:\n",
      "\n",
      "NU_CNPJ_EMPRESA - 4733\n",
      "NO_RAZAO_SOCIAL_EMPRESA - 4671\n",
      "NO_PRODUTO - 15722\n",
      "NU_PROCESSO - 26181\n",
      "DS_TIPO_PRODUTO - 4\n",
      "DS_CATEGORIA_PRODUTO - 44\n",
      "DT_FINALIZACAO_PROCESSO - 1657\n",
      "NU_REGISTRO_PRODUTO - 26180\n",
      "DT_VENCIMENTO_REGISTRO - 343\n",
      "ST_SITUACAO_REGISTRO - 3\n"
     ]
    }
   ],
   "source": [
    "print (\"TAMANHO DAS COLUNAS:\\n\")\n",
    "for coluna in data.columns: \n",
    "    print(f'{coluna} - {len(data[coluna].unique())}')"
   ]
  },
  {
   "cell_type": "markdown",
   "metadata": {},
   "source": [
    "<h2 style=\"font-family:Garamond;\">Transformação</h2>\n",
    "<p style=\"font-family:Anko;\"> Para cada coluna foi executado um comando <i style=\"color:#85C1E9\">\"data['Nome da coluna'].unique()\"</i> para receber cada item presente. Na verificação da coluna <i style=\"color:#DC7633 \">'DS_TIPO_PRODUTO'</i> foram obtidos itens <i style=\"color:#E8DAEF;\">NaN (Not a Number)</i>, e alguns dados que foram inseridos no banco de dados de forma equivocada.</p>"
   ]
  },
  {
   "cell_type": "code",
   "execution_count": 19,
   "metadata": {},
   "outputs": [
    {
     "data": {
      "text/plain": [
       "array(['ALIMENTO', nan, '01/11/2002 00:00:00', '01/23/2002 00:00:00'],\n",
       "      dtype=object)"
      ]
     },
     "execution_count": 19,
     "metadata": {},
     "output_type": "execute_result"
    }
   ],
   "source": [
    "# Alguns dados podem ter sido inseridos incorretamente como verificado abaixo\n",
    "len(data['DS_TIPO_PRODUTO'].unique())\n",
    "data['DS_TIPO_PRODUTO'].unique()"
   ]
  },
  {
   "cell_type": "markdown",
   "metadata": {},
   "source": [
    "<p style=\"font-family: Anko;\"> Após a extração dos dados foi visto que alguns registros inseridos é \"Not A Number\", logo, ainda existem linhas com dados incorretos. </p>\n"
   ]
  },
  {
   "cell_type": "code",
   "execution_count": 20,
   "metadata": {},
   "outputs": [
    {
     "data": {
      "text/html": [
       "<div>\n",
       "<style scoped>\n",
       "    .dataframe tbody tr th:only-of-type {\n",
       "        vertical-align: middle;\n",
       "    }\n",
       "\n",
       "    .dataframe tbody tr th {\n",
       "        vertical-align: top;\n",
       "    }\n",
       "\n",
       "    .dataframe thead th {\n",
       "        text-align: right;\n",
       "    }\n",
       "</style>\n",
       "<table border=\"1\" class=\"dataframe\">\n",
       "  <thead>\n",
       "    <tr style=\"text-align: right;\">\n",
       "      <th></th>\n",
       "      <th>NU_CNPJ_EMPRESA</th>\n",
       "      <th>NO_RAZAO_SOCIAL_EMPRESA</th>\n",
       "      <th>NO_PRODUTO</th>\n",
       "      <th>NU_PROCESSO</th>\n",
       "      <th>DS_TIPO_PRODUTO</th>\n",
       "      <th>DS_CATEGORIA_PRODUTO</th>\n",
       "      <th>DT_FINALIZACAO_PROCESSO</th>\n",
       "      <th>NU_REGISTRO_PRODUTO</th>\n",
       "      <th>DT_VENCIMENTO_REGISTRO</th>\n",
       "      <th>ST_SITUACAO_REGISTRO</th>\n",
       "    </tr>\n",
       "  </thead>\n",
       "  <tbody>\n",
       "    <tr>\n",
       "      <th>0</th>\n",
       "      <td>05501937000164</td>\n",
       "      <td>AMAZON ERVAS LABORATÓRIO BOTÂNICO LTDA</td>\n",
       "      <td>LICOPENO DE TOMATE COM VITAMINAS 'A' E 'E' EM ...</td>\n",
       "      <td>25009008347200207</td>\n",
       "      <td>ALIMENTO</td>\n",
       "      <td>SUBSTANCIAS BIOATIVAS E PROBIOTICOS ISOLADOS C...</td>\n",
       "      <td>07/15/2003 00:00:00</td>\n",
       "      <td>563450134</td>\n",
       "      <td>04/01/2007 00:00:00</td>\n",
       "      <td>Cancelado/Caduco</td>\n",
       "    </tr>\n",
       "    <tr>\n",
       "      <th>1</th>\n",
       "      <td>64088172000141</td>\n",
       "      <td>ATIVUS FARMACÊUTICA LTDA</td>\n",
       "      <td>LACTOBACILLUS ACIDOPHILUS EM SACHES</td>\n",
       "      <td>25004122926200216</td>\n",
       "      <td>ALIMENTO</td>\n",
       "      <td>SUBSTANCIAS BIOATIVAS E PROBIOTICOS ISOLADOS C...</td>\n",
       "      <td>01/29/2004 00:00:00</td>\n",
       "      <td>613700231</td>\n",
       "      <td>01/01/2014 00:00:00</td>\n",
       "      <td>Cancelado/Caduco</td>\n",
       "    </tr>\n",
       "    <tr>\n",
       "      <th>2</th>\n",
       "      <td>00413925000164</td>\n",
       "      <td>COLBRÁS INDÚSTRIA E COMÉRCIO LTDA</td>\n",
       "      <td>LICOPENO DE TOMATE EM CAPSULAS</td>\n",
       "      <td>25004050805200346</td>\n",
       "      <td>ALIMENTO</td>\n",
       "      <td>SUBSTANCIAS BIOATIVAS E PROBIOTICOS ISOLADOS C...</td>\n",
       "      <td>06/22/2004 00:00:00</td>\n",
       "      <td>508350027</td>\n",
       "      <td>06/01/2019 00:00:00</td>\n",
       "      <td>Cancelado/Caduco</td>\n",
       "    </tr>\n",
       "    <tr>\n",
       "      <th>3</th>\n",
       "      <td>68344878000188</td>\n",
       "      <td>ROBERG NUTRIGENOMICA LTDA</td>\n",
       "      <td>LICOPENO SINTETICO COM VITAMINA \"E\" E ZINCO EM...</td>\n",
       "      <td>25004231575200314</td>\n",
       "      <td>ALIMENTO</td>\n",
       "      <td>SUBSTANCIAS BIOATIVAS E PROBIOTICOS ISOLADOS C...</td>\n",
       "      <td>08/30/2004 00:00:00</td>\n",
       "      <td>564840019</td>\n",
       "      <td>08/01/2014 00:00:00</td>\n",
       "      <td>Cancelado/Caduco</td>\n",
       "    </tr>\n",
       "    <tr>\n",
       "      <th>4</th>\n",
       "      <td>64088172000141</td>\n",
       "      <td>ATIVUS FARMACÊUTICA LTDA</td>\n",
       "      <td>LACTOBACILLUS ACIDOPHILUS EM SACHÊ</td>\n",
       "      <td>25004127882200432</td>\n",
       "      <td>ALIMENTO</td>\n",
       "      <td>SUBSTANCIAS BIOATIVAS E PROBIOTICOS ISOLADOS C...</td>\n",
       "      <td>03/02/2005 00:00:00</td>\n",
       "      <td>613700235</td>\n",
       "      <td>02/01/2015 00:00:00</td>\n",
       "      <td>Cancelado/Caduco</td>\n",
       "    </tr>\n",
       "    <tr>\n",
       "      <th>...</th>\n",
       "      <td>...</td>\n",
       "      <td>...</td>\n",
       "      <td>...</td>\n",
       "      <td>...</td>\n",
       "      <td>...</td>\n",
       "      <td>...</td>\n",
       "      <td>...</td>\n",
       "      <td>...</td>\n",
       "      <td>...</td>\n",
       "      <td>...</td>\n",
       "    </tr>\n",
       "    <tr>\n",
       "      <th>26312</th>\n",
       "      <td>00625722000484</td>\n",
       "      <td>ANGULO AGRO INDUSTRIAL LTDA</td>\n",
       "      <td>SAL GROSSO IODADO</td>\n",
       "      <td>2500400283992</td>\n",
       "      <td>ALIMENTO</td>\n",
       "      <td>CATEGORIA NAO CADASTRADA</td>\n",
       "      <td>09/06/1993 00:00:00</td>\n",
       "      <td>495390013</td>\n",
       "      <td>09/01/2003 00:00:00</td>\n",
       "      <td>Cancelado/Caduco</td>\n",
       "    </tr>\n",
       "    <tr>\n",
       "      <th>26313</th>\n",
       "      <td>04133906000135</td>\n",
       "      <td>ALIMENTICIO INTERNACIONAL DE CACAU SA - INTERC...</td>\n",
       "      <td>CHOCOLATE EM PO</td>\n",
       "      <td>2500400141392</td>\n",
       "      <td>ALIMENTO</td>\n",
       "      <td>CATEGORIA NAO CADASTRADA</td>\n",
       "      <td>03/17/1994 00:00:00</td>\n",
       "      <td>479310012</td>\n",
       "      <td>03/01/2004 00:00:00</td>\n",
       "      <td>Cancelado/Caduco</td>\n",
       "    </tr>\n",
       "    <tr>\n",
       "      <th>26314</th>\n",
       "      <td>05850086000165</td>\n",
       "      <td>RIOMAR CONSERVAS LTDA</td>\n",
       "      <td>MECTAR DE FRUTAS DA AMAZONIA</td>\n",
       "      <td>2501001163193</td>\n",
       "      <td>ALIMENTO</td>\n",
       "      <td>CATEGORIA NAO CADASTRADA</td>\n",
       "      <td>05/19/1994 00:00:00</td>\n",
       "      <td>403430032</td>\n",
       "      <td>05/01/2004 00:00:00</td>\n",
       "      <td>Cancelado/Caduco</td>\n",
       "    </tr>\n",
       "    <tr>\n",
       "      <th>26315</th>\n",
       "      <td>00321245000200</td>\n",
       "      <td>SKW BIOSYSTEMS DO BRASIL LTDA</td>\n",
       "      <td>MISTURA ANTIOXIDANTE PARA FINS ALIMENTICIOS</td>\n",
       "      <td>2500400251792</td>\n",
       "      <td>ALIMENTO</td>\n",
       "      <td>CATEGORIA NAO CADASTRADA</td>\n",
       "      <td>04/11/1994 00:00:00</td>\n",
       "      <td>495860091</td>\n",
       "      <td>04/01/2004 00:00:00</td>\n",
       "      <td>Cancelado/Caduco</td>\n",
       "    </tr>\n",
       "    <tr>\n",
       "      <th>26316</th>\n",
       "      <td>07201635000104</td>\n",
       "      <td>INDUSTRIA DE BEBIDAS E CONDIMENTOS LORD LTDA</td>\n",
       "      <td>TEMPERO COMPLETO</td>\n",
       "      <td>2501601275283</td>\n",
       "      <td>ALIMENTO</td>\n",
       "      <td>CATEGORIA NAO CADASTRADA</td>\n",
       "      <td>04/19/1994 00:00:00</td>\n",
       "      <td>445670022</td>\n",
       "      <td>01/01/2004 00:00:00</td>\n",
       "      <td>Cancelado/Caduco</td>\n",
       "    </tr>\n",
       "  </tbody>\n",
       "</table>\n",
       "<p>26313 rows × 10 columns</p>\n",
       "</div>"
      ],
      "text/plain": [
       "      NU_CNPJ_EMPRESA                            NO_RAZAO_SOCIAL_EMPRESA  \\\n",
       "0      05501937000164             AMAZON ERVAS LABORATÓRIO BOTÂNICO LTDA   \n",
       "1      64088172000141                           ATIVUS FARMACÊUTICA LTDA   \n",
       "2      00413925000164                  COLBRÁS INDÚSTRIA E COMÉRCIO LTDA   \n",
       "3      68344878000188                          ROBERG NUTRIGENOMICA LTDA   \n",
       "4      64088172000141                           ATIVUS FARMACÊUTICA LTDA   \n",
       "...               ...                                                ...   \n",
       "26312  00625722000484                        ANGULO AGRO INDUSTRIAL LTDA   \n",
       "26313  04133906000135  ALIMENTICIO INTERNACIONAL DE CACAU SA - INTERC...   \n",
       "26314  05850086000165                              RIOMAR CONSERVAS LTDA   \n",
       "26315  00321245000200                      SKW BIOSYSTEMS DO BRASIL LTDA   \n",
       "26316  07201635000104       INDUSTRIA DE BEBIDAS E CONDIMENTOS LORD LTDA   \n",
       "\n",
       "                                              NO_PRODUTO        NU_PROCESSO  \\\n",
       "0      LICOPENO DE TOMATE COM VITAMINAS 'A' E 'E' EM ...  25009008347200207   \n",
       "1                    LACTOBACILLUS ACIDOPHILUS EM SACHES  25004122926200216   \n",
       "2                         LICOPENO DE TOMATE EM CAPSULAS  25004050805200346   \n",
       "3      LICOPENO SINTETICO COM VITAMINA \"E\" E ZINCO EM...  25004231575200314   \n",
       "4                     LACTOBACILLUS ACIDOPHILUS EM SACHÊ  25004127882200432   \n",
       "...                                                  ...                ...   \n",
       "26312                                  SAL GROSSO IODADO      2500400283992   \n",
       "26313                                    CHOCOLATE EM PO      2500400141392   \n",
       "26314                       MECTAR DE FRUTAS DA AMAZONIA      2501001163193   \n",
       "26315        MISTURA ANTIOXIDANTE PARA FINS ALIMENTICIOS      2500400251792   \n",
       "26316                                   TEMPERO COMPLETO      2501601275283   \n",
       "\n",
       "      DS_TIPO_PRODUTO                               DS_CATEGORIA_PRODUTO  \\\n",
       "0            ALIMENTO  SUBSTANCIAS BIOATIVAS E PROBIOTICOS ISOLADOS C...   \n",
       "1            ALIMENTO  SUBSTANCIAS BIOATIVAS E PROBIOTICOS ISOLADOS C...   \n",
       "2            ALIMENTO  SUBSTANCIAS BIOATIVAS E PROBIOTICOS ISOLADOS C...   \n",
       "3            ALIMENTO  SUBSTANCIAS BIOATIVAS E PROBIOTICOS ISOLADOS C...   \n",
       "4            ALIMENTO  SUBSTANCIAS BIOATIVAS E PROBIOTICOS ISOLADOS C...   \n",
       "...               ...                                                ...   \n",
       "26312        ALIMENTO                           CATEGORIA NAO CADASTRADA   \n",
       "26313        ALIMENTO                           CATEGORIA NAO CADASTRADA   \n",
       "26314        ALIMENTO                           CATEGORIA NAO CADASTRADA   \n",
       "26315        ALIMENTO                           CATEGORIA NAO CADASTRADA   \n",
       "26316        ALIMENTO                           CATEGORIA NAO CADASTRADA   \n",
       "\n",
       "      DT_FINALIZACAO_PROCESSO NU_REGISTRO_PRODUTO DT_VENCIMENTO_REGISTRO  \\\n",
       "0         07/15/2003 00:00:00           563450134    04/01/2007 00:00:00   \n",
       "1         01/29/2004 00:00:00           613700231    01/01/2014 00:00:00   \n",
       "2         06/22/2004 00:00:00           508350027    06/01/2019 00:00:00   \n",
       "3         08/30/2004 00:00:00           564840019    08/01/2014 00:00:00   \n",
       "4         03/02/2005 00:00:00           613700235    02/01/2015 00:00:00   \n",
       "...                       ...                 ...                    ...   \n",
       "26312     09/06/1993 00:00:00           495390013    09/01/2003 00:00:00   \n",
       "26313     03/17/1994 00:00:00           479310012    03/01/2004 00:00:00   \n",
       "26314     05/19/1994 00:00:00           403430032    05/01/2004 00:00:00   \n",
       "26315     04/11/1994 00:00:00           495860091    04/01/2004 00:00:00   \n",
       "26316     04/19/1994 00:00:00           445670022    01/01/2004 00:00:00   \n",
       "\n",
       "      ST_SITUACAO_REGISTRO  \n",
       "0         Cancelado/Caduco  \n",
       "1         Cancelado/Caduco  \n",
       "2         Cancelado/Caduco  \n",
       "3         Cancelado/Caduco  \n",
       "4         Cancelado/Caduco  \n",
       "...                    ...  \n",
       "26312     Cancelado/Caduco  \n",
       "26313     Cancelado/Caduco  \n",
       "26314     Cancelado/Caduco  \n",
       "26315     Cancelado/Caduco  \n",
       "26316     Cancelado/Caduco  \n",
       "\n",
       "[26313 rows x 10 columns]"
      ]
     },
     "execution_count": 20,
     "metadata": {},
     "output_type": "execute_result"
    }
   ],
   "source": [
    "data.dropna(inplace=True) #altera o objeto 'data' (ou seja, nesse caso, armazenou um novo dataframe com a exclusão dos NaN)\n",
    "data\n",
    "# Rodar a célula \"TAMANHO DAS COLUNAS\" novamente mostrará a correção (Das 26317 linhas iniciais restaram 23313)"
   ]
  },
  {
   "cell_type": "markdown",
   "metadata": {},
   "source": [
    "<p style=\"font-family: Anko;\"> Para planejar uma boa organização dos dados foi realizado uma listagem de todas as empresas por CNPJ cadastrado e em seguida uma extração da quantidade de CNPJs por razão social, assim, são muitos cadastros de diferentes CNPJ's por razão social. Essa extração nos ajudará a montar um diagrama de Entidade-Relacionamento. </p>"
   ]
  },
  {
   "cell_type": "code",
   "execution_count": null,
   "metadata": {},
   "outputs": [],
   "source": [
    "#PARA IDENTIFICAR CNPJ POR RAZÃO SOCIAL e LISTAGEM DE TODAS AS EMPRESAS \n",
    "for item in data['NU_CNPJ_EMPRESA'].unique(): \n",
    "    print(f\"{item} - {data.loc[data['NU_CNPJ_EMPRESA']== item, 'NO_RAZAO_SOCIAL_EMPRESA'].unique()} \")"
   ]
  },
  {
   "cell_type": "code",
   "execution_count": 22,
   "metadata": {},
   "outputs": [
    {
     "name": "stdout",
     "output_type": "stream",
     "text": [
      "LP FARMACÊUTICA LTDA ME - 2\n",
      "OMNILIFE BRASIL COMERCIO DE PRODUTOS NUTRICIONAIS LTDA. - 2\n",
      "UNILEVER BRASIL ALIMENTOS LTDA - 2\n",
      "PEPSICO DO BRASIL LTDA - 2\n",
      "EMS S/A - 2\n",
      "INDAIA BRASIL AGUAS MINERAIS LTDA - 5\n",
      "DANONE LTDA - 4\n",
      "BIOLAB SANUS FARMACÊUTICA LTDA - 4\n",
      "NORTE SALINEIRA S/A INDUSTRIA E COMERCIO - NORSAL - 2\n",
      "AGUAS PRATA LTDA - 2\n",
      "LITORAGUA AGUAS MINERAIS LTDA - 2\n",
      "REFRESCOS GUARARAPES LTDA - 2\n",
      "MINERADORA SAO LOURENCO DA SERRA LTDA ME - 2\n",
      "PRODUTORA E EXPORTADORA DE MINERAIS E ALIMENTOS NOSSA SENHORA LTDA - ME - 2\n",
      "NORSA REFRIGERANTES LTDA - 2\n",
      "REFRIGERANTES DO OESTE SA - 2\n",
      "AGUIAR BAYMA LTDA - 2\n",
      "BUNGE ALIMENTOS S.A. - 2\n",
      "KERRY DO BRASIL LTDA - 3\n",
      "RHODIA BRASIL LTDA - 2\n",
      "INGREDION BRASIL INGREDIENTES INDUSTRIAIS LTDA - 2\n",
      "WALLERSTEIN INDUSTRIAL E COMERCIAL LTDA - 2\n",
      "DOREMUS ALIMENTOS LTDA. - 2\n",
      "PERDIGAO AGROINDUSTRIAL S/A - 2\n",
      "MHS COMERCIO DE PRODUTOS NATURAIS LTDA - 2\n",
      "BrasALPLA Pernambuco - Indústria de Embalagens Ltda - 2\n",
      "HNK BR INDUSTRIA DE BEBIDAS LTDA - 2\n",
      "CIMED INDUSTRIA S.A - 2\n",
      "HYPERMARCAS S/A - 2\n",
      "CIA FLUMINENSE DE REFRIGERANTES - 2\n",
      "NUTRIACAO INDUSTRIA E COMERCIO LTDA - 2\n",
      "EMPRESA DE AGUAS OURO FINO LTDA - 2\n",
      "EMPRESA DE MINERAÇÃO NEVADA LTDA - 2\n",
      "KRAFT FOODS BRASIL S/A - 2\n",
      "AB BRASIL INDÚSTRIA E COMÉRCIO DE ALIMENTOS LTDA. - 2\n",
      "PROLEV DO BRASIL LTDA - 2\n",
      "SALSUL INDUSTRIA E COMERCIO LTDA - 2\n",
      "REBICA INDUSTRIA E COMERCIO LTDA - 2\n",
      "CADBURY ADAMS BRASIL INDUSTRIA E COMERCIO DE PRODUTOS ALIMENTICIOS LTDA - 2\n",
      "JOSAPAR JOAQUIM OLIVEIRA SA PARTICIPAÇÕES - 2\n",
      "CARGILL AGRICOLA SA - 2\n",
      "MURTA ESPECIALIDADES QUÍMICAS LTDA - 2\n",
      "VONPAR REFRESCOS S/A - 4\n",
      "ARANHA INDUSTRIA E COMERCIO LTDA - 2\n",
      "KANOA INDUSTRIAS ALIMENTICIAS LTDA - 2\n",
      "PARISI AGROINDUSTRIAL LTDA - 2\n",
      "COMPANHIA CERVEJARIA BRAHMA - 3\n",
      "PHOSTHER ALGAMAR LTDA - 2\n",
      "KRAFT LACTA SUCHARD BRASIL S/A - 2\n",
      "BUSCHLE & LEPPER S/A - 2\n",
      "GELO MINERAL INDUSTRIA E COMERCIO LTDA - 2\n"
     ]
    }
   ],
   "source": [
    "#Contagem de CNPJs por Razão Social\n",
    "for item in data['NO_RAZAO_SOCIAL_EMPRESA'].unique():\n",
    "    if len(data.loc[data['NO_RAZAO_SOCIAL_EMPRESA']== item, 'NU_CNPJ_EMPRESA'].unique()) > 1:\n",
    "        print(f\"{item} - {len(data.loc[data['NO_RAZAO_SOCIAL_EMPRESA']== item, 'NU_CNPJ_EMPRESA'].unique())}\")"
   ]
  },
  {
   "cell_type": "markdown",
   "metadata": {},
   "source": [
    "<p style=\"font-family:anko;\"> Feita a transformação dos dados o próximo passo é o carregamento dos dados tratados no sistema de destino. No entanto, antes de carregar em um banco de dados SQL, é necessário visualizar a organização via Diagrama Entidade-Relacionamento (pode ser encontrado no memorial disponibilizado) </p>"
   ]
  },
  {
   "cell_type": "markdown",
   "metadata": {},
   "source": [
    "<h2 style=\"font-family:Garamond;\">Carregando os dados no MySQL Workbench</h2>"
   ]
  },
  {
   "cell_type": "markdown",
   "metadata": {},
   "source": [
    "<p style=\"font-family:Anko;\"> Primeiro vamos importar a biblioteca 'PyMySQL' para conectar ao banco de dados MySQL e assim inserir registros, atualizar e executar transações diretamente com o script em Python.</p>"
   ]
  },
  {
   "cell_type": "code",
   "execution_count": 23,
   "metadata": {},
   "outputs": [],
   "source": [
    "import pymysql #importando biblioteca para conectar ao banco de dados MySQL"
   ]
  },
  {
   "cell_type": "markdown",
   "metadata": {},
   "source": [
    "<p style=\"font-family:Anko;\"> É importante criar as váriaveis com as quais iremos iniciar nosso banco de dados.</p>"
   ]
  },
  {
   "cell_type": "code",
   "execution_count": null,
   "metadata": {},
   "outputs": [],
   "source": [
    "data_tipo_produto = data['DS_TIPO_PRODUTO'].unique()\n",
    "print(data_tipo_produto)\n",
    "\n",
    "data_categ = {1:list(data['DS_CATEGORIA_PRODUTO'].unique())}\n",
    "print(data_categ)\n",
    "\n",
    "\n"
   ]
  },
  {
   "cell_type": "markdown",
   "metadata": {},
   "source": [
    "<p style=\"font-family:Anko;\"> Para conectar ao banco de dados precisamos fornecer as informações da database. O 'host' é o endereço do servidor onde o banco de dados está localizado, nesse projeto trabalhamos local, ou seja, na mesma máquina que o código. O 'user' é a identificação que autentica o servidor, 'root' é o usuário padrão. Em 'password' inserimos a senha do banco de dados. 'Database' é o nome do banco de dados que estamos nos conectando. Os parâmetros 'charset' e 'cursorclass' são usados para definir a codificação de caracteres da comunicação entre o script e o servidor MySQL, e para especificar o tipo de cursor utilizado para executar as consultas ao banco de dados, respectivamente. </p>"
   ]
  },
  {
   "cell_type": "code",
   "execution_count": 29,
   "metadata": {},
   "outputs": [
    {
     "name": "stdout",
     "output_type": "stream",
     "text": [
      "Versão do MySQL: 8.4.1\n"
     ]
    }
   ],
   "source": [
    "# Conectar a database\n",
    "connection = pymysql.connect(host='localhost',\n",
    "                             user='',\n",
    "                             password='',\n",
    "                             database='banco_alimentos_registro',\n",
    "                             charset='utf8mb4',\n",
    "                             cursorclass=pymysql.cursors.DictCursor) #retorna os dados como dicionário, em branco retorna tupla\n",
    "with connection.cursor() as cursor:\n",
    "        sql = \"SELECT VERSION()\"\n",
    "        cursor.execute(sql)\n",
    "        result = cursor.fetchone()\n",
    "        print(\"Versão do MySQL:\", result['VERSION()'])\n",
    "\n"
   ]
  },
  {
   "cell_type": "markdown",
   "metadata": {},
   "source": [
    "<p style=\"font-family:Anko; color:#21618C;\"> Os códigos de gravação no servidor foram comentados para evitar duplicatas e redundância. </p>"
   ]
  },
  {
   "cell_type": "markdown",
   "metadata": {},
   "source": [
    "<p style=\"font-family:Anko;\">Para criar adicionar uma gravação ao banco de dados vamos utilizar o comando <b>'INSERT INTO'</b>, então, adiconamos à tabela <i style=\"color:#F7DC6F\">'tipo_de_produto'</i> o atributo <b>'DS_TIPO_PRODUTO'</b>, e definimos o valor (VALUES) como <b style=\"color:#5DADE2;\">%s</b> para que os dados sejam substituidos na consulta pelo valor correspondente na tupla 'data_tipo_produto'. </p>"
   ]
  },
  {
   "cell_type": "code",
   "execution_count": 26,
   "metadata": {},
   "outputs": [
    {
     "name": "stdout",
     "output_type": "stream",
     "text": [
      "{'ID': 1, 'DS_TIPO_PRODUTO': 'ALIMENTO'}\n"
     ]
    }
   ],
   "source": [
    "\n",
    "with connection:\n",
    "    '''with connection.cursor() as cursor:\n",
    "        # Criar nova gravação\n",
    "        sql = \"INSERT INTO `tipo_de_produto` (`DS_TIPO_PRODUTO`) VALUES (%s)\"\n",
    "        for item in data_tipo_produto: \n",
    "            cursor.execute(sql, (item))\n",
    "\n",
    "    # Para finalizar a gravação e manter permanentemente as transações aplicadas ao banco de dados\n",
    "    # utilizar o comando 'COMMIT'.\n",
    "    connection.commit()'''\n",
    "\n",
    "    with connection.cursor() as cursor:\n",
    "        # Leitura da gravação\n",
    "        sql = \"SELECT * FROM tipo_de_produto\"\n",
    "        cursor.execute(sql, ())\n",
    "        result = cursor.fetchone()\n",
    "        print(result)"
   ]
  },
  {
   "cell_type": "markdown",
   "metadata": {},
   "source": [
    "<p style=\"font-family:Anko;\"> A primeira tabela 'tipo_de_produto' foi criada. O ID pré-definido pelo script é 1, e podemos visualizar que na tabela o tipo de produto 'ALIMENTO' foi acrescentado. </p>"
   ]
  },
  {
   "cell_type": "markdown",
   "metadata": {},
   "source": [
    "<p style=\"font-family:Garamond;color:lightpink;font-size:120%\"><b>LEMBRETE: a cada nova gravação de tabela (Entidade) é necessário inserir comandos e criar as mesmas no SCHEMAS do MySQLWorkbench, é recomendado acompanhar ambos os scripts de maneira simultânea.</b></p>"
   ]
  },
  {
   "cell_type": "markdown",
   "metadata": {},
   "source": [
    "<p style=\"font-family:Anko;\"> Agora, a próxima tabela a relacionar é de 'categoria'. Novamente chamamos a conexão com o banco de dados e vamos definir o título e os atributos.</p>"
   ]
  },
  {
   "cell_type": "code",
   "execution_count": 27,
   "metadata": {},
   "outputs": [
    {
     "data": {
      "text/plain": [
       "'\\nwith connection:\\n    with connection.cursor() as cursor:\\n        sql = \"INSERT INTO `categoria` (`ID_TIPO_PRODUTO`, `DS_CATEGORIA_PRODUTO`) VALUES (%s, %s)\"\\n        for key,value in data_categ.items(): \\n            for item in value:\\n                cursor.execute(sql, (key,item))\\n    connection.commit()\\n          '"
      ]
     },
     "execution_count": 27,
     "metadata": {},
     "output_type": "execute_result"
    }
   ],
   "source": [
    "'''\n",
    "with connection:\n",
    "    with connection.cursor() as cursor:\n",
    "        sql = \"INSERT INTO `categoria` (`ID_TIPO_PRODUTO`, `DS_CATEGORIA_PRODUTO`) VALUES (%s, %s)\"\n",
    "        for key,value in data_categ.items(): \n",
    "            for item in value:\n",
    "                cursor.execute(sql, (key,item))\n",
    "    connection.commit()\n",
    "          '''\n"
   ]
  },
  {
   "cell_type": "code",
   "execution_count": 30,
   "metadata": {},
   "outputs": [],
   "source": [
    "with connection:\n",
    "    with connection.cursor() as cursor:\n",
    "        sql = \"SELECT * FROM categoria\"\n",
    "        cursor.execute(sql, ())\n",
    "        categorias_por_id = cursor.fetchall()\n",
    "        "
   ]
  },
  {
   "cell_type": "markdown",
   "metadata": {},
   "source": [
    "<p style=\"font-family:Anko;\">Para criar a tabela de produtos vamos recuperar todas as linhas já executadas com 'cursor.fetchall()' e processar os dados junto a nova gravação da tabela de produtos. </p>"
   ]
  },
  {
   "cell_type": "code",
   "execution_count": null,
   "metadata": {},
   "outputs": [],
   "source": [
    "produtos = {}\n",
    "for item in categorias_por_id:\n",
    "    produtos[item['ID']] = list(data.loc[data['DS_CATEGORIA_PRODUTO'] == item['DS_CATEGORIA_PRODUTO'], 'NO_PRODUTO'].unique())\n",
    "print(produtos)"
   ]
  },
  {
   "cell_type": "code",
   "execution_count": 47,
   "metadata": {},
   "outputs": [],
   "source": [
    "'''with connection: #conexão com o mySQL\n",
    "    with connection.cursor() as cursor: #usando cursor para rodar SQL como texto\n",
    "        sql = \"INSERT INTO `produto` (`ID_CATEGORIA`, `NO_PRODUTO`) VALUES (%s,%s)\" #declarando o comando de inserção de dados no SQL\n",
    "        for key,value in produtos.items(): #acessando items dentro do dicionário 'produtos'\n",
    "            for produto in value: #acessar prod por prod na lista\n",
    "                cursor.execute(sql, (key,produto))\n",
    "    connection.commit()'''\n"
   ]
  },
  {
   "cell_type": "markdown",
   "metadata": {},
   "source": [
    "<p style=\"font-family:Anko;\"> A tabela empresas também é relacionada a tabela de registros, então devemos criar uma gravação dos dados referentes a essa tabela também. </p>"
   ]
  },
  {
   "cell_type": "code",
   "execution_count": 57,
   "metadata": {},
   "outputs": [],
   "source": [
    "empresas = {}\n",
    "for razaosocial in data['NO_RAZAO_SOCIAL_EMPRESA'].unique():\n",
    "    for cnpj in data.loc[data['NO_RAZAO_SOCIAL_EMPRESA'] == razaosocial,'NU_CNPJ_EMPRESA']:\n",
    "        empresas[cnpj] = razaosocial"
   ]
  },
  {
   "cell_type": "code",
   "execution_count": 58,
   "metadata": {},
   "outputs": [],
   "source": [
    "'''with connection: #conexão com o mySQL\n",
    "    with connection.cursor() as cursor: #usando cursor para rodar SQL como texto\n",
    "        sql = \"INSERT INTO `empresa` (`CNPJ`, `RAZAO_SOCIAL`) VALUES (%s,%s)\" #declarando o comando de inserção de dados no SQL\n",
    "        for key,value in empresas.items(): #acessando items dentro do dicionário 'produtos'\n",
    "            cursor.execute(sql, (key,value))\n",
    "    connection.commit()'''"
   ]
  },
  {
   "cell_type": "markdown",
   "metadata": {},
   "source": [
    "<p style=\"font-family:Anko;\"> Para a última e mais importante tabela 'registro' devemos recuperar todas as linhas resultantes das gravações anteriores que se relacionam a entidade 'registro' e direcioná-las à nova tabela.</p>"
   ]
  },
  {
   "cell_type": "code",
   "execution_count": 64,
   "metadata": {},
   "outputs": [
    {
     "data": {
      "text/html": [
       "<div>\n",
       "<style scoped>\n",
       "    .dataframe tbody tr th:only-of-type {\n",
       "        vertical-align: middle;\n",
       "    }\n",
       "\n",
       "    .dataframe tbody tr th {\n",
       "        vertical-align: top;\n",
       "    }\n",
       "\n",
       "    .dataframe thead th {\n",
       "        text-align: right;\n",
       "    }\n",
       "</style>\n",
       "<table border=\"1\" class=\"dataframe\">\n",
       "  <thead>\n",
       "    <tr style=\"text-align: right;\">\n",
       "      <th></th>\n",
       "      <th>ID</th>\n",
       "      <th>CNPJ</th>\n",
       "      <th>RAZAO_SOCIAL</th>\n",
       "    </tr>\n",
       "  </thead>\n",
       "  <tbody>\n",
       "    <tr>\n",
       "      <th>0</th>\n",
       "      <td>1</td>\n",
       "      <td>05501937000164</td>\n",
       "      <td>AMAZON ERVAS LABORATÓRIO BOTÂNICO LTDA</td>\n",
       "    </tr>\n",
       "    <tr>\n",
       "      <th>1</th>\n",
       "      <td>2</td>\n",
       "      <td>64088172000141</td>\n",
       "      <td>ATIVUS FARMACÊUTICA LTDA</td>\n",
       "    </tr>\n",
       "    <tr>\n",
       "      <th>2</th>\n",
       "      <td>3</td>\n",
       "      <td>00413925000164</td>\n",
       "      <td>COLBRÁS INDÚSTRIA E COMÉRCIO LTDA</td>\n",
       "    </tr>\n",
       "    <tr>\n",
       "      <th>3</th>\n",
       "      <td>4</td>\n",
       "      <td>68344878000188</td>\n",
       "      <td>ROBERG NUTRIGENOMICA LTDA</td>\n",
       "    </tr>\n",
       "    <tr>\n",
       "      <th>4</th>\n",
       "      <td>5</td>\n",
       "      <td>02567922000100</td>\n",
       "      <td>SUPLAN LABORATORIO DE SUPLEM. ALIMENTARES LTDA</td>\n",
       "    </tr>\n",
       "    <tr>\n",
       "      <th>...</th>\n",
       "      <td>...</td>\n",
       "      <td>...</td>\n",
       "      <td>...</td>\n",
       "    </tr>\n",
       "    <tr>\n",
       "      <th>4725</th>\n",
       "      <td>4726</td>\n",
       "      <td>55323216000180</td>\n",
       "      <td>BEBIDAS WILSON INDUSTRIA E COMERCIO LTDA.</td>\n",
       "    </tr>\n",
       "    <tr>\n",
       "      <th>4726</th>\n",
       "      <td>4727</td>\n",
       "      <td>83069682000116</td>\n",
       "      <td>INDUSTRIA E COMERCIO DE ALIMENTOS BO-K LTDA</td>\n",
       "    </tr>\n",
       "    <tr>\n",
       "      <th>4727</th>\n",
       "      <td>4728</td>\n",
       "      <td>00804351000155</td>\n",
       "      <td>MONTRIGAL PANIFICADORA E LANCHONETE LTDA</td>\n",
       "    </tr>\n",
       "    <tr>\n",
       "      <th>4728</th>\n",
       "      <td>4729</td>\n",
       "      <td>01929413000118</td>\n",
       "      <td>WILSON BARATELLA BAENA ME</td>\n",
       "    </tr>\n",
       "    <tr>\n",
       "      <th>4729</th>\n",
       "      <td>4730</td>\n",
       "      <td>04133906000135</td>\n",
       "      <td>ALIMENTICIO INTERNACIONAL DE CACAU SA - INTERC...</td>\n",
       "    </tr>\n",
       "  </tbody>\n",
       "</table>\n",
       "<p>4730 rows × 3 columns</p>\n",
       "</div>"
      ],
      "text/plain": [
       "        ID            CNPJ                                       RAZAO_SOCIAL\n",
       "0        1  05501937000164             AMAZON ERVAS LABORATÓRIO BOTÂNICO LTDA\n",
       "1        2  64088172000141                           ATIVUS FARMACÊUTICA LTDA\n",
       "2        3  00413925000164                  COLBRÁS INDÚSTRIA E COMÉRCIO LTDA\n",
       "3        4  68344878000188                          ROBERG NUTRIGENOMICA LTDA\n",
       "4        5  02567922000100     SUPLAN LABORATORIO DE SUPLEM. ALIMENTARES LTDA\n",
       "...    ...             ...                                                ...\n",
       "4725  4726  55323216000180          BEBIDAS WILSON INDUSTRIA E COMERCIO LTDA.\n",
       "4726  4727  83069682000116        INDUSTRIA E COMERCIO DE ALIMENTOS BO-K LTDA\n",
       "4727  4728  00804351000155           MONTRIGAL PANIFICADORA E LANCHONETE LTDA\n",
       "4728  4729  01929413000118                          WILSON BARATELLA BAENA ME\n",
       "4729  4730  04133906000135  ALIMENTICIO INTERNACIONAL DE CACAU SA - INTERC...\n",
       "\n",
       "[4730 rows x 3 columns]"
      ]
     },
     "execution_count": 64,
     "metadata": {},
     "output_type": "execute_result"
    }
   ],
   "source": [
    "with connection:\n",
    "    with connection.cursor() as cursor:\n",
    "        sql = \"SELECT * FROM empresa\"\n",
    "        cursor.execute(sql, ())\n",
    "        empresas = pd.DataFrame(cursor.fetchall())\n",
    "empresas"
   ]
  },
  {
   "cell_type": "code",
   "execution_count": 67,
   "metadata": {},
   "outputs": [
    {
     "data": {
      "text/html": [
       "<div>\n",
       "<style scoped>\n",
       "    .dataframe tbody tr th:only-of-type {\n",
       "        vertical-align: middle;\n",
       "    }\n",
       "\n",
       "    .dataframe tbody tr th {\n",
       "        vertical-align: top;\n",
       "    }\n",
       "\n",
       "    .dataframe thead th {\n",
       "        text-align: right;\n",
       "    }\n",
       "</style>\n",
       "<table border=\"1\" class=\"dataframe\">\n",
       "  <thead>\n",
       "    <tr style=\"text-align: right;\">\n",
       "      <th></th>\n",
       "      <th>ID</th>\n",
       "      <th>ID_CATEGORIA</th>\n",
       "      <th>NO_PRODUTO</th>\n",
       "    </tr>\n",
       "  </thead>\n",
       "  <tbody>\n",
       "    <tr>\n",
       "      <th>0</th>\n",
       "      <td>1</td>\n",
       "      <td>1</td>\n",
       "      <td>LICOPENO DE TOMATE COM VITAMINAS 'A' E 'E' EM ...</td>\n",
       "    </tr>\n",
       "    <tr>\n",
       "      <th>1</th>\n",
       "      <td>2</td>\n",
       "      <td>1</td>\n",
       "      <td>LACTOBACILLUS ACIDOPHILUS EM SACHES</td>\n",
       "    </tr>\n",
       "    <tr>\n",
       "      <th>2</th>\n",
       "      <td>3</td>\n",
       "      <td>1</td>\n",
       "      <td>LICOPENO DE TOMATE EM CAPSULAS</td>\n",
       "    </tr>\n",
       "    <tr>\n",
       "      <th>3</th>\n",
       "      <td>4</td>\n",
       "      <td>1</td>\n",
       "      <td>LICOPENO SINTETICO COM VITAMINA \"E\" E ZINCO EM...</td>\n",
       "    </tr>\n",
       "    <tr>\n",
       "      <th>4</th>\n",
       "      <td>5</td>\n",
       "      <td>1</td>\n",
       "      <td>LACTOBACILLUS ACIDOPHILUS EM SACHÊ</td>\n",
       "    </tr>\n",
       "    <tr>\n",
       "      <th>...</th>\n",
       "      <td>...</td>\n",
       "      <td>...</td>\n",
       "      <td>...</td>\n",
       "    </tr>\n",
       "    <tr>\n",
       "      <th>16124</th>\n",
       "      <td>16125</td>\n",
       "      <td>40</td>\n",
       "      <td>ADOÇANTE DE MESA</td>\n",
       "    </tr>\n",
       "    <tr>\n",
       "      <th>16125</th>\n",
       "      <td>16126</td>\n",
       "      <td>40</td>\n",
       "      <td>ADOÇANTE DE MESA EM PO</td>\n",
       "    </tr>\n",
       "    <tr>\n",
       "      <th>16126</th>\n",
       "      <td>16127</td>\n",
       "      <td>40</td>\n",
       "      <td>ADOÇANTE DIETETICO LIQUIDO</td>\n",
       "    </tr>\n",
       "    <tr>\n",
       "      <th>16127</th>\n",
       "      <td>16128</td>\n",
       "      <td>41</td>\n",
       "      <td>ALIMENTO A BASE DE GRAO PARA IDOSO ENRIQUECIDO...</td>\n",
       "    </tr>\n",
       "    <tr>\n",
       "      <th>16128</th>\n",
       "      <td>16129</td>\n",
       "      <td>41</td>\n",
       "      <td>ALIMENTO A BASE DE GRAOS PARA IDOSO ENRIQUECID...</td>\n",
       "    </tr>\n",
       "  </tbody>\n",
       "</table>\n",
       "<p>16129 rows × 3 columns</p>\n",
       "</div>"
      ],
      "text/plain": [
       "          ID  ID_CATEGORIA                                         NO_PRODUTO\n",
       "0          1             1  LICOPENO DE TOMATE COM VITAMINAS 'A' E 'E' EM ...\n",
       "1          2             1                LACTOBACILLUS ACIDOPHILUS EM SACHES\n",
       "2          3             1                     LICOPENO DE TOMATE EM CAPSULAS\n",
       "3          4             1  LICOPENO SINTETICO COM VITAMINA \"E\" E ZINCO EM...\n",
       "4          5             1                 LACTOBACILLUS ACIDOPHILUS EM SACHÊ\n",
       "...      ...           ...                                                ...\n",
       "16124  16125            40                                   ADOÇANTE DE MESA\n",
       "16125  16126            40                             ADOÇANTE DE MESA EM PO\n",
       "16126  16127            40                         ADOÇANTE DIETETICO LIQUIDO\n",
       "16127  16128            41  ALIMENTO A BASE DE GRAO PARA IDOSO ENRIQUECIDO...\n",
       "16128  16129            41  ALIMENTO A BASE DE GRAOS PARA IDOSO ENRIQUECID...\n",
       "\n",
       "[16129 rows x 3 columns]"
      ]
     },
     "execution_count": 67,
     "metadata": {},
     "output_type": "execute_result"
    }
   ],
   "source": [
    "with connection:\n",
    "    with connection.cursor() as cursor:\n",
    "        sql = \"SELECT * FROM produto\"\n",
    "        cursor.execute(sql, ())\n",
    "        produtos = pd.DataFrame(cursor.fetchall())\n",
    "produtos"
   ]
  },
  {
   "cell_type": "markdown",
   "metadata": {},
   "source": [
    "<p style=\"font-family:Anko;\"> Tendo criado as nivas variáveis podemos utilizá-las para criar a tabela 'registro'. </p>"
   ]
  },
  {
   "cell_type": "code",
   "execution_count": 85,
   "metadata": {},
   "outputs": [],
   "source": [
    "data_to_insert = []\n",
    "for registro in data.to_dict(orient = \"records\"):\n",
    "    produto_correspondente = str(produtos.loc[produtos['NO_PRODUTO'] == registro['NO_PRODUTO'], 'ID'].values[0])\n",
    "    empresa_correspondente = str(empresas.loc[empresas['CNPJ'] == registro['NU_CNPJ_EMPRESA'], 'ID'].values[0])\n",
    "    temp_data = [produto_correspondente, empresa_correspondente, registro['NU_REGISTRO_PRODUTO'], registro['NU_PROCESSO'], registro['DT_FINALIZACAO_PROCESSO'], registro['DT_VENCIMENTO_REGISTRO'], registro['ST_SITUACAO_REGISTRO']]\n",
    "    data_to_insert.append(temp_data)"
   ]
  },
  {
   "cell_type": "markdown",
   "metadata": {},
   "source": [
    "<p style=\"font-family:Anko;\"> Inserção de dados da entidade 'registro' </p>"
   ]
  },
  {
   "cell_type": "code",
   "execution_count": 88,
   "metadata": {},
   "outputs": [],
   "source": [
    "'''with connection: #conexão com o mySQL\n",
    "    with connection.cursor() as cursor: #usando cursor para rodar SQL como texto\n",
    "        sql = \"INSERT INTO `registro` (`ID_PRODUTO`,`ID_EMPRESA`,`NU_REGISTRO`,`NU_PROCESSO`,`DT_FINALIZACAO`,`DT_VENCIMENTO`,`STATUS`) VALUES (%s,%s,%s,%s,%s,%s,%s)\" #declarando o comando de inserção de dados no SQL\n",
    "        for item in data_to_insert: #acessando items dentro do dicionário 'produtos'\n",
    "            cursor.execute(sql, (item[0],item[1],item[2],item[3],item[4],item[5],item[6],))\n",
    "    connection.commit()'''"
   ]
  },
  {
   "cell_type": "markdown",
   "metadata": {},
   "source": [
    "<p style=\"font-family:Anko;\">Pronto, a extração, transformação e carregamento dos dados foi feita e o banco de dados csv foi transferido para o MySQL com sucesso.</p>"
   ]
  },
  {
   "cell_type": "markdown",
   "metadata": {},
   "source": [
    "<h4 style=\"font-family:Garamond;\">Considerações finais</h4>\n",
    "<p style=\"font-family:Anko;color:#196F3D\">A qualidade dos dados é um fator crítico para qualquer sistema de dados, e crucial para um bom processo ETL, apesar de consistentes alguns dados estiveram ausentes ou ocorreu um preenchimento equivoco, além de encontrarmos após o caregamento e organização das novas tabelas no MySQL acentuações e discordância strings (razão social e categoria). O projeto mostra a utilidade e eficiência do uso de um banco de dados em SQL. Ao criar uma base de dados no MySQL os tipos de categorias, de produtos e a padronização do cadastro de razões sociais e CNPJS, bem como a autenticação da validade dos registros, poderiam ser realizadas de maneira mais uniforme e padronizada. </p>"
   ]
  }
 ],
 "metadata": {
  "kernelspec": {
   "display_name": "Python 3",
   "language": "python",
   "name": "python3"
  },
  "language_info": {
   "codemirror_mode": {
    "name": "ipython",
    "version": 3
   },
   "file_extension": ".py",
   "mimetype": "text/x-python",
   "name": "python",
   "nbconvert_exporter": "python",
   "pygments_lexer": "ipython3",
   "version": "3.12.1"
  }
 },
 "nbformat": 4,
 "nbformat_minor": 2
}
